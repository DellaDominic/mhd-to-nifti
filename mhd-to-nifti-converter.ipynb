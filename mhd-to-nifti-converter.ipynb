{
 "cells": [
  {
   "cell_type": "code",
   "execution_count": 32,
   "metadata": {},
   "outputs": [],
   "source": [
    "# RIRE dataset: http://www.insight-journal.org/rire/\n",
    "\n",
    "import os\n",
    "import SimpleITK as sitk # 'pip install simpleitk'
   ]
  },
  {
   "cell_type": "code",
   "execution_count": 34,
   "metadata": {},
   "outputs": [],
   "source": [
    "# Give filenames to a RIRE subject's images\n",
    "FileNames = ['./data/training_001/mr_T1/training_001_mr_T1.mhd',\n",
    "             './data/training_001/mr_T2/training_001_mr_T2.mhd',\n",
    "             './data/training_001/mr_PD/training_001_mr_PD.mhd',\n",
    "             './data/training_001/ct/training_001_ct.mhd']\n",
    "\n",
    "# Convert .mhd to .nii\n",
    "for file in FileNames:\n",
    "    path,name = os.path.split(file)\n",
    "    name      = name.split('.')\n",
    "    image     = sitk.ReadImage(file)\n",
    "    sitk.WriteImage(image,name[0] + '.nii')"
   ]
  }
 ],
 "metadata": {
  "kernelspec": {
   "display_name": "Python 3",
   "language": "python",
   "name": "python3"
  },
  "language_info": {
   "codemirror_mode": {
    "name": "ipython",
    "version": 3
   },
   "file_extension": ".py",
   "mimetype": "text/x-python",
   "name": "python",
   "nbconvert_exporter": "python",
   "pygments_lexer": "ipython3",
   "version": "3.7.2"
  }
 },
 "nbformat": 4,
 "nbformat_minor": 2
}
